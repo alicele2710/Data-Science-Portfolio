{
 "cells": [
  {
   "cell_type": "markdown",
   "id": "8dd2ab92",
   "metadata": {},
   "source": [
    "# Predicting Sales for Favorita Supermarket"
   ]
  },
  {
   "cell_type": "code",
   "execution_count": 2,
   "id": "ddcce80f",
   "metadata": {},
   "outputs": [
    {
     "name": "stdout",
     "output_type": "stream",
     "text": [
      "/Users/alicephuongle/Desktop/Springboard/Project 3\n"
     ]
    }
   ],
   "source": [
    "%cd '/Users/alicephuongle/Desktop/Springboard/Project 3'"
   ]
  },
  {
   "cell_type": "markdown",
   "id": "b5afce65",
   "metadata": {},
   "source": [
    "In this project, I use time-series forecasting to forecast store sales on data from Corporación Favorita, a large Ecuadorian-based grocery retailer.\n",
    "\n",
    "Forecasts are especially relevant to brick-and-mortar grocery stores, which must dance delicately with how much inventory to buy. Predict a little over, and grocers are stuck with overstocked, perishable goods. Guess a little under, and popular items quickly sell out, leading to lost revenue and upset customers. More accurate forecasting, thanks to machine learning, could help ensure retailers please customers by having just enough of the right products at the right time.\n",
    "\n",
    "Current subjective forecasting methods for retail have little data to back them up and are unlikely to be automated. The problem becomes even more complex as retailers add new locations with unique needs, new products, ever-transitioning seasonal tastes, and unpredictable product marketing."
   ]
  },
  {
   "cell_type": "markdown",
   "id": "861b4b2b",
   "metadata": {},
   "source": [
    "## 1. Data "
   ]
  },
  {
   "cell_type": "markdown",
   "id": "a2a570cf",
   "metadata": {},
   "source": [
    "There are 5 data tables provided by the company\n",
    "<br>\n",
    "1) Train: The training dataset consists of 3000888 data points for 54 stores from 2013-01-01 to 2017-08-15\n",
    "<br>\n",
    "2) Test: The test dataset looks similar to the training dataset and contains data in the next 15 days following the training set\n",
    "<br>\n",
    "3) Oil: Contains oil price data from 2013 to 2017\n",
    "<br>\n",
    "4) Stores: Tells us the location of a store\n",
    "<br>\n",
    "5) Holidays Events: Tells us whether a particular date is a national, regional, or local holiday. "
   ]
  },
  {
   "cell_type": "markdown",
   "id": "2c97c990",
   "metadata": {},
   "source": [
    "I added data from external sources which I believe have strong correlation with the stores' daily sales:\n",
    "<br>\n",
    "1) Oil prices and Exxon stock prices from Yahoo Finance - These will help with missing oil price data in the dataset provided by the company\n",
    "<br>\n",
    "2) CPI, Population, GDP per CAPITA from world bank "
   ]
  },
  {
   "cell_type": "markdown",
   "id": "f7969d99",
   "metadata": {},
   "source": [
    "I then created 2 datasets: one for nationwide aggregated daily sales and one for daily sales at store level "
   ]
  },
  {
   "cell_type": "markdown",
   "id": "554f0d80",
   "metadata": {},
   "source": [
    "[Data Cleaning](https://colab.research.google.com/drive/1b-MgQHnU4bJG1scwBxubLt3B1Ca9Yk72#scrollTo=lCqUgX6g_pxS) "
   ]
  },
  {
   "cell_type": "markdown",
   "id": "13445971",
   "metadata": {},
   "source": [
    "[Nationwide daily sales](https://drive.google.com/drive/u/0/folders/1pUolHpeB9aaehKY1ZSZDQ78ws6m_DpJR)"
   ]
  },
  {
   "cell_type": "markdown",
   "id": "e207f78d",
   "metadata": {},
   "source": [
    "[Daily sales by store](https://drive.google.com/drive/u/0/folders/1pUolHpeB9aaehKY1ZSZDQ78ws6m_DpJR)"
   ]
  },
  {
   "cell_type": "markdown",
   "id": "7f2978e6",
   "metadata": {},
   "source": [
    "## 2. EDA"
   ]
  },
  {
   "cell_type": "markdown",
   "id": "49d39b0e",
   "metadata": {},
   "source": [
    "**Seasonality**: Sales data exhibit weekly and monthly seasonality. Sales rise toward weekend within a week, and toward December within a year. I also examined the seasonality against salary days and national, regional, and local holidays but there was no material difference among those groups."
   ]
  },
  {
   "cell_type": "markdown",
   "id": "864125e2",
   "metadata": {},
   "source": [
    "**Macro-economics**: Supermarket sales are strongly correlated with the population in the vicinity,but negatively correlated with the inflation index (CPI) and the global crude oil prices. This is understandable as Ecuador is an oil-dependent economy. If the oil prices go up, inflation will also rise and people’s purchasing power will weaken"
   ]
  },
  {
   "cell_type": "markdown",
   "id": "fcdcd071",
   "metadata": {},
   "source": [
    "**Historical sales**: There is a spike in the first lag of PACF, signalling that yesterday sales have strong influences on the current day figures. Customers’ shopping habits tend to be stable over a small time frame so the recent days’ sales are some of the best predictors for tomorrow’s sales.     "
   ]
  },
  {
   "cell_type": "markdown",
   "id": "e4de7778",
   "metadata": {},
   "source": [
    "[EDA](https://colab.research.google.com/drive/12Sr-JmsNdWy2CJsxZeYP0lNE__i5sXl7#scrollTo=RrbzXNzciGaS)"
   ]
  },
  {
   "cell_type": "markdown",
   "id": "9a1ece39",
   "metadata": {},
   "source": [
    "## 3. Modelling "
   ]
  },
  {
   "cell_type": "markdown",
   "id": "db2c8d06",
   "metadata": {},
   "source": [
    "Big supermarket chain restock daily so we focus on daily sales forecast, as opposed to weekly or monthly. I will first explore nationwide daily sales forecast, then go down to store level. I limit the scope to the top 14 stores that contribute 50% revenue. I will be using 2 main methods:\n",
    "<br>\n",
    "1) Univariate Time Series Forecasting (ARIMA, SARIMA, AR, MA, etc.): These methods are capable of only looking at the target variable. This means no other regressors (more variables) can be added into the model.\n",
    "<br>\n",
    "2) Multivariate Time Series Forecasting: Linear, Tree, XGBoost\n",
    "<br>\n",
    "I evaluate these models using MAPE (mean average percentage error)"
   ]
  },
  {
   "cell_type": "markdown",
   "id": "6f133718",
   "metadata": {},
   "source": [
    "XGBoost performs the best with MAPE = 0.17. This is the only model that picks up the seasonality dip on the first day of a year. "
   ]
  },
  {
   "cell_type": "markdown",
   "id": "ddd23fa1",
   "metadata": {},
   "source": [
    "[Modelling](https://colab.research.google.com/drive/1vsbMI9QyX2Tk0tfIkUnTcGEYF228uOtM#scrollTo=BMjQQ59_8G8U)"
   ]
  }
 ],
 "metadata": {
  "kernelspec": {
   "display_name": "Python 3 (ipykernel)",
   "language": "python",
   "name": "python3"
  },
  "language_info": {
   "codemirror_mode": {
    "name": "ipython",
    "version": 3
   },
   "file_extension": ".py",
   "mimetype": "text/x-python",
   "name": "python",
   "nbconvert_exporter": "python",
   "pygments_lexer": "ipython3",
   "version": "3.9.7"
  }
 },
 "nbformat": 4,
 "nbformat_minor": 5
}
